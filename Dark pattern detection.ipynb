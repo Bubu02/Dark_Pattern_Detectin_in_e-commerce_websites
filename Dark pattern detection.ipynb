{
 "cells": [
  {
   "cell_type": "code",
   "execution_count": 1,
   "id": "07e15c41-9ff9-4889-a18c-b9aaaf7d9de6",
   "metadata": {},
   "outputs": [],
   "source": [
    "import pandas as pd\n",
    "# Data.tsv is stored locally in the \n",
    "# same directory as of this python file\n",
    "df = pd.read_csv('Dataset/dataset.tsv',sep = '\\t') "
   ]
  },
  {
   "cell_type": "code",
   "execution_count": 2,
   "id": "c0620638-5aca-4357-b426-cb85be765a7e",
   "metadata": {},
   "outputs": [
    {
     "name": "stdout",
     "output_type": "stream",
     "text": [
      "   page_id                                               text  label  \\\n",
      "0     1012            FLASH SALE | LIMITED TIME ONLY Shop Now      1   \n",
      "1      158                                Pillowcases & Shams      0   \n",
      "2      108                                     Write a review      0   \n",
      "3     1425  To start your return, simply click on the foll...      0   \n",
      "4     1658                newsletter signup (privacy policy)       0   \n",
      "\n",
      "   Pattern Category  \n",
      "0           Urgency  \n",
      "1  Not Dark Pattern  \n",
      "2  Not Dark Pattern  \n",
      "3  Not Dark Pattern  \n",
      "4  Not Dark Pattern  \n"
     ]
    }
   ],
   "source": [
    "print(df.head())"
   ]
  },
  {
   "cell_type": "code",
   "execution_count": 3,
   "id": "7fac0240-4d12-42be-9d5b-6cb4482fede9",
   "metadata": {},
   "outputs": [],
   "source": [
    "df = df.drop('page_id', axis=1)"
   ]
  },
  {
   "cell_type": "code",
   "execution_count": 4,
   "id": "245c4b85-bdab-4e7e-9a0f-cef42c47bb67",
   "metadata": {},
   "outputs": [
    {
     "name": "stdout",
     "output_type": "stream",
     "text": [
      "                                                text  label  Pattern Category\n",
      "0            FLASH SALE | LIMITED TIME ONLY Shop Now      1           Urgency\n",
      "1                                Pillowcases & Shams      0  Not Dark Pattern\n",
      "2                                     Write a review      0  Not Dark Pattern\n",
      "3  To start your return, simply click on the foll...      0  Not Dark Pattern\n",
      "4                newsletter signup (privacy policy)       0  Not Dark Pattern\n"
     ]
    }
   ],
   "source": [
    "print(df.head())"
   ]
  },
  {
   "cell_type": "code",
   "execution_count": 5,
   "id": "6139378f-9f14-4a43-ab0a-65365b52f04f",
   "metadata": {},
   "outputs": [],
   "source": [
    "from sklearn.feature_extraction.text import CountVectorizer\n",
    "\n",
    "# Convert your text data into a bag-of-words representation\n",
    "vectorizer = CountVectorizer()\n",
    "X = vectorizer.fit_transform(df['text'])"
   ]
  },
  {
   "cell_type": "code",
   "execution_count": 6,
   "id": "fae16369-542f-4800-9908-1bd8f5c0671b",
   "metadata": {},
   "outputs": [],
   "source": [
    "# print(X)"
   ]
  },
  {
   "cell_type": "code",
   "execution_count": 7,
   "id": "a915554d-dc97-497e-be1e-26a163754a04",
   "metadata": {},
   "outputs": [],
   "source": [
    "# Prepare your labels\n",
    "y = df['label']"
   ]
  },
  {
   "cell_type": "code",
   "execution_count": 8,
   "id": "c056f006-1f62-47c0-898e-ed598fc422e4",
   "metadata": {},
   "outputs": [],
   "source": [
    "from sklearn.model_selection import train_test_split\n",
    "\n",
    "# Split your data\n",
    "X_train, X_test, y_train, y_test = train_test_split(X, y, test_size=0.2, random_state=42)"
   ]
  },
  {
   "cell_type": "markdown",
   "id": "6c32018f-f565-4f5e-a744-3da9af956e1c",
   "metadata": {},
   "source": [
    "## Selecting Model"
   ]
  },
  {
   "cell_type": "code",
   "execution_count": 9,
   "id": "5e545a4d-9268-48b5-995f-7cecad27e437",
   "metadata": {},
   "outputs": [],
   "source": [
    "from sklearn import svm\n",
    "from sklearn.ensemble import RandomForestClassifier\n",
    "from sklearn.linear_model import LogisticRegression\n",
    "from sklearn.model_selection import GridSearchCV\n",
    "from sklearn.neighbors import KNeighborsClassifier\n",
    "\n",
    "\n",
    "model_params = {\n",
    "    'svm': {\n",
    "        'model': svm.SVC(gamma='auto'),\n",
    "        'params' : {\n",
    "            'C' : [0.1,1, 10, 100],\n",
    "            'kernel': ['rbf', 'poly', 'sigmoid']\n",
    "        }\n",
    "    },\n",
    "    'logistic_regression':{\n",
    "        'model':LogisticRegression(solver='liblinear', multi_class='auto'),\n",
    "        'params':{\n",
    "            'C':[1,5,10]\n",
    "        }\n",
    "    },\n",
    "    'random_forest':{\n",
    "        'model':RandomForestClassifier(),\n",
    "        'params':{\n",
    "            'max_depth': [80, 90, 100, 110],\n",
    "            'min_samples_split': [8, 10, 12],\n",
    "            'n_estimators': [100, 200, 300, 1000]\n",
    "        }\n",
    "    },\n",
    "    'KNeighboursClassifier':{\n",
    "        'model' :KNeighborsClassifier(),\n",
    "        'params':{\n",
    "            'n_neighbors' : [5,7,9,11,13,15],\n",
    "            'weights' : ['uniform','distance'],\n",
    "            'metric' : ['minkowski','euclidean','manhattan']  \n",
    "        }\n",
    "    }\n",
    "\n",
    "}\n",
    "\n",
    "scores = []"
   ]
  },
  {
   "cell_type": "code",
   "execution_count": 10,
   "id": "1380200e-f1b5-493c-aee3-9edfb59a1afd",
   "metadata": {},
   "outputs": [
    {
     "name": "stdout",
     "output_type": "stream",
     "text": [
      "Fitting 5 folds for each of 12 candidates, totalling 60 fits\n",
      "[CV] END ..................................C=0.1, kernel=rbf; total time=   0.2s\n",
      "[CV] END ..................................C=0.1, kernel=rbf; total time=   0.1s\n",
      "[CV] END ..................................C=0.1, kernel=rbf; total time=   0.1s\n",
      "[CV] END ..................................C=0.1, kernel=rbf; total time=   0.1s\n",
      "[CV] END ..................................C=0.1, kernel=rbf; total time=   0.1s\n",
      "[CV] END .................................C=0.1, kernel=poly; total time=   0.1s\n",
      "[CV] END .................................C=0.1, kernel=poly; total time=   0.1s\n",
      "[CV] END .................................C=0.1, kernel=poly; total time=   0.1s\n",
      "[CV] END .................................C=0.1, kernel=poly; total time=   0.1s\n",
      "[CV] END .................................C=0.1, kernel=poly; total time=   0.1s\n",
      "[CV] END ..............................C=0.1, kernel=sigmoid; total time=   0.1s\n",
      "[CV] END ..............................C=0.1, kernel=sigmoid; total time=   0.1s\n",
      "[CV] END ..............................C=0.1, kernel=sigmoid; total time=   0.2s\n",
      "[CV] END ..............................C=0.1, kernel=sigmoid; total time=   0.2s\n",
      "[CV] END ..............................C=0.1, kernel=sigmoid; total time=   0.1s\n",
      "[CV] END ....................................C=1, kernel=rbf; total time=   0.1s\n",
      "[CV] END ....................................C=1, kernel=rbf; total time=   0.2s\n",
      "[CV] END ....................................C=1, kernel=rbf; total time=   0.1s\n",
      "[CV] END ....................................C=1, kernel=rbf; total time=   0.1s\n",
      "[CV] END ....................................C=1, kernel=rbf; total time=   0.1s\n",
      "[CV] END ...................................C=1, kernel=poly; total time=   0.1s\n",
      "[CV] END ...................................C=1, kernel=poly; total time=   0.1s\n",
      "[CV] END ...................................C=1, kernel=poly; total time=   0.0s\n",
      "[CV] END ...................................C=1, kernel=poly; total time=   0.0s\n",
      "[CV] END ...................................C=1, kernel=poly; total time=   0.0s\n",
      "[CV] END ................................C=1, kernel=sigmoid; total time=   0.1s\n",
      "[CV] END ................................C=1, kernel=sigmoid; total time=   0.0s\n",
      "[CV] END ................................C=1, kernel=sigmoid; total time=   0.1s\n",
      "[CV] END ................................C=1, kernel=sigmoid; total time=   0.1s\n",
      "[CV] END ................................C=1, kernel=sigmoid; total time=   0.0s\n",
      "[CV] END ...................................C=10, kernel=rbf; total time=   0.1s\n",
      "[CV] END ...................................C=10, kernel=rbf; total time=   0.0s\n",
      "[CV] END ...................................C=10, kernel=rbf; total time=   0.0s\n",
      "[CV] END ...................................C=10, kernel=rbf; total time=   0.0s\n",
      "[CV] END ...................................C=10, kernel=rbf; total time=   0.0s\n",
      "[CV] END ..................................C=10, kernel=poly; total time=   0.0s\n",
      "[CV] END ..................................C=10, kernel=poly; total time=   0.0s\n",
      "[CV] END ..................................C=10, kernel=poly; total time=   0.0s\n",
      "[CV] END ..................................C=10, kernel=poly; total time=   0.0s\n",
      "[CV] END ..................................C=10, kernel=poly; total time=   0.0s\n",
      "[CV] END ...............................C=10, kernel=sigmoid; total time=   0.1s\n",
      "[CV] END ...............................C=10, kernel=sigmoid; total time=   0.1s\n",
      "[CV] END ...............................C=10, kernel=sigmoid; total time=   0.0s\n",
      "[CV] END ...............................C=10, kernel=sigmoid; total time=   0.0s\n",
      "[CV] END ...............................C=10, kernel=sigmoid; total time=   0.1s\n",
      "[CV] END ..................................C=100, kernel=rbf; total time=   0.0s\n",
      "[CV] END ..................................C=100, kernel=rbf; total time=   0.0s\n",
      "[CV] END ..................................C=100, kernel=rbf; total time=   0.0s\n",
      "[CV] END ..................................C=100, kernel=rbf; total time=   0.0s\n",
      "[CV] END ..................................C=100, kernel=rbf; total time=   0.0s\n",
      "[CV] END .................................C=100, kernel=poly; total time=   0.0s\n",
      "[CV] END .................................C=100, kernel=poly; total time=   0.1s\n",
      "[CV] END .................................C=100, kernel=poly; total time=   0.0s\n",
      "[CV] END .................................C=100, kernel=poly; total time=   0.1s\n",
      "[CV] END .................................C=100, kernel=poly; total time=   0.0s\n",
      "[CV] END ..............................C=100, kernel=sigmoid; total time=   0.0s\n",
      "[CV] END ..............................C=100, kernel=sigmoid; total time=   0.0s\n",
      "[CV] END ..............................C=100, kernel=sigmoid; total time=   0.0s\n",
      "[CV] END ..............................C=100, kernel=sigmoid; total time=   0.0s\n",
      "[CV] END ..............................C=100, kernel=sigmoid; total time=   0.0s\n",
      "Fitting 5 folds for each of 3 candidates, totalling 15 fits\n",
      "[CV] END ................................................C=1; total time=   0.0s\n",
      "[CV] END ................................................C=1; total time=   0.0s\n",
      "[CV] END ................................................C=1; total time=   0.0s\n",
      "[CV] END ................................................C=1; total time=   0.0s\n",
      "[CV] END ................................................C=1; total time=   0.0s\n",
      "[CV] END ................................................C=5; total time=   0.0s\n",
      "[CV] END ................................................C=5; total time=   0.0s\n",
      "[CV] END ................................................C=5; total time=   0.0s\n",
      "[CV] END ................................................C=5; total time=   0.0s\n",
      "[CV] END ................................................C=5; total time=   0.0s\n",
      "[CV] END ...............................................C=10; total time=   0.0s\n",
      "[CV] END ...............................................C=10; total time=   0.0s\n",
      "[CV] END ...............................................C=10; total time=   0.0s\n",
      "[CV] END ...............................................C=10; total time=   0.0s\n",
      "[CV] END ...............................................C=10; total time=   0.0s\n",
      "Fitting 5 folds for each of 48 candidates, totalling 240 fits\n",
      "[CV] END max_depth=80, min_samples_split=8, n_estimators=100; total time=   1.4s\n",
      "[CV] END max_depth=80, min_samples_split=8, n_estimators=100; total time=   1.3s\n",
      "[CV] END max_depth=80, min_samples_split=8, n_estimators=100; total time=   1.3s\n",
      "[CV] END max_depth=80, min_samples_split=8, n_estimators=100; total time=   1.4s\n",
      "[CV] END max_depth=80, min_samples_split=8, n_estimators=100; total time=   1.3s\n",
      "[CV] END max_depth=80, min_samples_split=8, n_estimators=200; total time=   2.7s\n",
      "[CV] END max_depth=80, min_samples_split=8, n_estimators=200; total time=   2.8s\n",
      "[CV] END max_depth=80, min_samples_split=8, n_estimators=200; total time=   2.7s\n",
      "[CV] END max_depth=80, min_samples_split=8, n_estimators=200; total time=   2.8s\n",
      "[CV] END max_depth=80, min_samples_split=8, n_estimators=200; total time=   2.7s\n",
      "[CV] END max_depth=80, min_samples_split=8, n_estimators=300; total time=   4.1s\n",
      "[CV] END max_depth=80, min_samples_split=8, n_estimators=300; total time=   4.2s\n",
      "[CV] END max_depth=80, min_samples_split=8, n_estimators=300; total time=   4.1s\n",
      "[CV] END max_depth=80, min_samples_split=8, n_estimators=300; total time=   4.2s\n",
      "[CV] END max_depth=80, min_samples_split=8, n_estimators=300; total time=   4.3s\n",
      "[CV] END max_depth=80, min_samples_split=8, n_estimators=1000; total time=  13.8s\n",
      "[CV] END max_depth=80, min_samples_split=8, n_estimators=1000; total time=  14.4s\n",
      "[CV] END max_depth=80, min_samples_split=8, n_estimators=1000; total time=  14.1s\n",
      "[CV] END max_depth=80, min_samples_split=8, n_estimators=1000; total time=  14.2s\n",
      "[CV] END max_depth=80, min_samples_split=8, n_estimators=1000; total time=  13.8s\n",
      "[CV] END max_depth=80, min_samples_split=10, n_estimators=100; total time=   1.3s\n",
      "[CV] END max_depth=80, min_samples_split=10, n_estimators=100; total time=   1.3s\n",
      "[CV] END max_depth=80, min_samples_split=10, n_estimators=100; total time=   1.3s\n",
      "[CV] END max_depth=80, min_samples_split=10, n_estimators=100; total time=   1.3s\n",
      "[CV] END max_depth=80, min_samples_split=10, n_estimators=100; total time=   1.2s\n",
      "[CV] END max_depth=80, min_samples_split=10, n_estimators=200; total time=   2.6s\n",
      "[CV] END max_depth=80, min_samples_split=10, n_estimators=200; total time=   2.7s\n",
      "[CV] END max_depth=80, min_samples_split=10, n_estimators=200; total time=   2.6s\n",
      "[CV] END max_depth=80, min_samples_split=10, n_estimators=200; total time=   2.6s\n",
      "[CV] END max_depth=80, min_samples_split=10, n_estimators=200; total time=   2.6s\n",
      "[CV] END max_depth=80, min_samples_split=10, n_estimators=300; total time=   3.9s\n",
      "[CV] END max_depth=80, min_samples_split=10, n_estimators=300; total time=   4.0s\n",
      "[CV] END max_depth=80, min_samples_split=10, n_estimators=300; total time=   3.9s\n",
      "[CV] END max_depth=80, min_samples_split=10, n_estimators=300; total time=   4.1s\n",
      "[CV] END max_depth=80, min_samples_split=10, n_estimators=300; total time=   4.0s\n",
      "[CV] END max_depth=80, min_samples_split=10, n_estimators=1000; total time=  13.2s\n",
      "[CV] END max_depth=80, min_samples_split=10, n_estimators=1000; total time=  13.5s\n",
      "[CV] END max_depth=80, min_samples_split=10, n_estimators=1000; total time=  13.3s\n",
      "[CV] END max_depth=80, min_samples_split=10, n_estimators=1000; total time=  13.5s\n",
      "[CV] END max_depth=80, min_samples_split=10, n_estimators=1000; total time=  13.3s\n",
      "[CV] END max_depth=80, min_samples_split=12, n_estimators=100; total time=   1.2s\n",
      "[CV] END max_depth=80, min_samples_split=12, n_estimators=100; total time=   1.3s\n",
      "[CV] END max_depth=80, min_samples_split=12, n_estimators=100; total time=   1.3s\n",
      "[CV] END max_depth=80, min_samples_split=12, n_estimators=100; total time=   1.3s\n",
      "[CV] END max_depth=80, min_samples_split=12, n_estimators=100; total time=   1.2s\n",
      "[CV] END max_depth=80, min_samples_split=12, n_estimators=200; total time=   2.7s\n",
      "[CV] END max_depth=80, min_samples_split=12, n_estimators=200; total time=   2.8s\n",
      "[CV] END max_depth=80, min_samples_split=12, n_estimators=200; total time=   2.6s\n",
      "[CV] END max_depth=80, min_samples_split=12, n_estimators=200; total time=   2.5s\n",
      "[CV] END max_depth=80, min_samples_split=12, n_estimators=200; total time=   2.5s\n",
      "[CV] END max_depth=80, min_samples_split=12, n_estimators=300; total time=   3.8s\n",
      "[CV] END max_depth=80, min_samples_split=12, n_estimators=300; total time=   3.9s\n",
      "[CV] END max_depth=80, min_samples_split=12, n_estimators=300; total time=   3.9s\n",
      "[CV] END max_depth=80, min_samples_split=12, n_estimators=300; total time=   3.8s\n",
      "[CV] END max_depth=80, min_samples_split=12, n_estimators=300; total time=   3.8s\n",
      "[CV] END max_depth=80, min_samples_split=12, n_estimators=1000; total time=  12.8s\n",
      "[CV] END max_depth=80, min_samples_split=12, n_estimators=1000; total time=  13.4s\n",
      "[CV] END max_depth=80, min_samples_split=12, n_estimators=1000; total time=  12.9s\n",
      "[CV] END max_depth=80, min_samples_split=12, n_estimators=1000; total time=  13.1s\n",
      "[CV] END max_depth=80, min_samples_split=12, n_estimators=1000; total time=  12.8s\n",
      "[CV] END max_depth=90, min_samples_split=8, n_estimators=100; total time=   1.4s\n",
      "[CV] END max_depth=90, min_samples_split=8, n_estimators=100; total time=   1.4s\n",
      "[CV] END max_depth=90, min_samples_split=8, n_estimators=100; total time=   1.4s\n",
      "[CV] END max_depth=90, min_samples_split=8, n_estimators=100; total time=   1.4s\n",
      "[CV] END max_depth=90, min_samples_split=8, n_estimators=100; total time=   1.4s\n",
      "[CV] END max_depth=90, min_samples_split=8, n_estimators=200; total time=   2.8s\n",
      "[CV] END max_depth=90, min_samples_split=8, n_estimators=200; total time=   2.9s\n",
      "[CV] END max_depth=90, min_samples_split=8, n_estimators=200; total time=   2.9s\n",
      "[CV] END max_depth=90, min_samples_split=8, n_estimators=200; total time=   2.9s\n",
      "[CV] END max_depth=90, min_samples_split=8, n_estimators=200; total time=   2.8s\n",
      "[CV] END max_depth=90, min_samples_split=8, n_estimators=300; total time=   4.3s\n",
      "[CV] END max_depth=90, min_samples_split=8, n_estimators=300; total time=   4.5s\n",
      "[CV] END max_depth=90, min_samples_split=8, n_estimators=300; total time=   4.3s\n",
      "[CV] END max_depth=90, min_samples_split=8, n_estimators=300; total time=   4.4s\n",
      "[CV] END max_depth=90, min_samples_split=8, n_estimators=300; total time=   4.3s\n",
      "[CV] END max_depth=90, min_samples_split=8, n_estimators=1000; total time=  14.9s\n",
      "[CV] END max_depth=90, min_samples_split=8, n_estimators=1000; total time=  15.4s\n",
      "[CV] END max_depth=90, min_samples_split=8, n_estimators=1000; total time=  14.6s\n",
      "[CV] END max_depth=90, min_samples_split=8, n_estimators=1000; total time=  14.8s\n",
      "[CV] END max_depth=90, min_samples_split=8, n_estimators=1000; total time=  14.6s\n",
      "[CV] END max_depth=90, min_samples_split=10, n_estimators=100; total time=   1.3s\n",
      "[CV] END max_depth=90, min_samples_split=10, n_estimators=100; total time=   1.4s\n",
      "[CV] END max_depth=90, min_samples_split=10, n_estimators=100; total time=   1.3s\n",
      "[CV] END max_depth=90, min_samples_split=10, n_estimators=100; total time=   1.3s\n",
      "[CV] END max_depth=90, min_samples_split=10, n_estimators=100; total time=   1.3s\n",
      "[CV] END max_depth=90, min_samples_split=10, n_estimators=200; total time=   2.7s\n",
      "[CV] END max_depth=90, min_samples_split=10, n_estimators=200; total time=   2.8s\n",
      "[CV] END max_depth=90, min_samples_split=10, n_estimators=200; total time=   2.7s\n",
      "[CV] END max_depth=90, min_samples_split=10, n_estimators=200; total time=   2.7s\n",
      "[CV] END max_depth=90, min_samples_split=10, n_estimators=200; total time=   2.7s\n",
      "[CV] END max_depth=90, min_samples_split=10, n_estimators=300; total time=   4.1s\n",
      "[CV] END max_depth=90, min_samples_split=10, n_estimators=300; total time=   4.2s\n",
      "[CV] END max_depth=90, min_samples_split=10, n_estimators=300; total time=   4.2s\n",
      "[CV] END max_depth=90, min_samples_split=10, n_estimators=300; total time=   4.1s\n",
      "[CV] END max_depth=90, min_samples_split=10, n_estimators=300; total time=   4.1s\n",
      "[CV] END max_depth=90, min_samples_split=10, n_estimators=1000; total time=  14.0s\n",
      "[CV] END max_depth=90, min_samples_split=10, n_estimators=1000; total time=  14.3s\n",
      "[CV] END max_depth=90, min_samples_split=10, n_estimators=1000; total time=  14.0s\n",
      "[CV] END max_depth=90, min_samples_split=10, n_estimators=1000; total time=  14.1s\n",
      "[CV] END max_depth=90, min_samples_split=10, n_estimators=1000; total time=  14.1s\n",
      "[CV] END max_depth=90, min_samples_split=12, n_estimators=100; total time=   1.3s\n",
      "[CV] END max_depth=90, min_samples_split=12, n_estimators=100; total time=   1.3s\n",
      "[CV] END max_depth=90, min_samples_split=12, n_estimators=100; total time=   1.3s\n",
      "[CV] END max_depth=90, min_samples_split=12, n_estimators=100; total time=   1.3s\n",
      "[CV] END max_depth=90, min_samples_split=12, n_estimators=100; total time=   1.3s\n",
      "[CV] END max_depth=90, min_samples_split=12, n_estimators=200; total time=   2.6s\n",
      "[CV] END max_depth=90, min_samples_split=12, n_estimators=200; total time=   2.9s\n",
      "[CV] END max_depth=90, min_samples_split=12, n_estimators=200; total time=   2.7s\n",
      "[CV] END max_depth=90, min_samples_split=12, n_estimators=200; total time=   2.7s\n",
      "[CV] END max_depth=90, min_samples_split=12, n_estimators=200; total time=   2.7s\n",
      "[CV] END max_depth=90, min_samples_split=12, n_estimators=300; total time=   4.0s\n",
      "[CV] END max_depth=90, min_samples_split=12, n_estimators=300; total time=   4.1s\n",
      "[CV] END max_depth=90, min_samples_split=12, n_estimators=300; total time=   4.0s\n",
      "[CV] END max_depth=90, min_samples_split=12, n_estimators=300; total time=   4.0s\n",
      "[CV] END max_depth=90, min_samples_split=12, n_estimators=300; total time=   4.0s\n",
      "[CV] END max_depth=90, min_samples_split=12, n_estimators=1000; total time=  13.4s\n",
      "[CV] END max_depth=90, min_samples_split=12, n_estimators=1000; total time=  13.7s\n",
      "[CV] END max_depth=90, min_samples_split=12, n_estimators=1000; total time=  13.6s\n",
      "[CV] END max_depth=90, min_samples_split=12, n_estimators=1000; total time=  13.7s\n",
      "[CV] END max_depth=90, min_samples_split=12, n_estimators=1000; total time=  13.7s\n",
      "[CV] END max_depth=100, min_samples_split=8, n_estimators=100; total time=   1.4s\n",
      "[CV] END max_depth=100, min_samples_split=8, n_estimators=100; total time=   1.6s\n",
      "[CV] END max_depth=100, min_samples_split=8, n_estimators=100; total time=   1.5s\n",
      "[CV] END max_depth=100, min_samples_split=8, n_estimators=100; total time=   1.5s\n",
      "[CV] END max_depth=100, min_samples_split=8, n_estimators=100; total time=   1.4s\n",
      "[CV] END max_depth=100, min_samples_split=8, n_estimators=200; total time=   3.0s\n",
      "[CV] END max_depth=100, min_samples_split=8, n_estimators=200; total time=   3.0s\n",
      "[CV] END max_depth=100, min_samples_split=8, n_estimators=200; total time=   3.0s\n",
      "[CV] END max_depth=100, min_samples_split=8, n_estimators=200; total time=   3.0s\n",
      "[CV] END max_depth=100, min_samples_split=8, n_estimators=200; total time=   2.9s\n",
      "[CV] END max_depth=100, min_samples_split=8, n_estimators=300; total time=   4.5s\n",
      "[CV] END max_depth=100, min_samples_split=8, n_estimators=300; total time=   4.6s\n",
      "[CV] END max_depth=100, min_samples_split=8, n_estimators=300; total time=   4.5s\n",
      "[CV] END max_depth=100, min_samples_split=8, n_estimators=300; total time=   4.5s\n",
      "[CV] END max_depth=100, min_samples_split=8, n_estimators=300; total time=   4.5s\n",
      "[CV] END max_depth=100, min_samples_split=8, n_estimators=1000; total time=  15.0s\n",
      "[CV] END max_depth=100, min_samples_split=8, n_estimators=1000; total time=  15.6s\n",
      "[CV] END max_depth=100, min_samples_split=8, n_estimators=1000; total time=  15.2s\n",
      "[CV] END max_depth=100, min_samples_split=8, n_estimators=1000; total time=  15.3s\n",
      "[CV] END max_depth=100, min_samples_split=8, n_estimators=1000; total time=  15.1s\n",
      "[CV] END max_depth=100, min_samples_split=10, n_estimators=100; total time=   1.4s\n",
      "[CV] END max_depth=100, min_samples_split=10, n_estimators=100; total time=   1.4s\n",
      "[CV] END max_depth=100, min_samples_split=10, n_estimators=100; total time=   1.4s\n",
      "[CV] END max_depth=100, min_samples_split=10, n_estimators=100; total time=   1.4s\n",
      "[CV] END max_depth=100, min_samples_split=10, n_estimators=100; total time=   1.4s\n",
      "[CV] END max_depth=100, min_samples_split=10, n_estimators=200; total time=   2.8s\n",
      "[CV] END max_depth=100, min_samples_split=10, n_estimators=200; total time=   2.9s\n",
      "[CV] END max_depth=100, min_samples_split=10, n_estimators=200; total time=   3.1s\n",
      "[CV] END max_depth=100, min_samples_split=10, n_estimators=200; total time=   2.9s\n",
      "[CV] END max_depth=100, min_samples_split=10, n_estimators=200; total time=   2.8s\n",
      "[CV] END max_depth=100, min_samples_split=10, n_estimators=300; total time=   4.3s\n",
      "[CV] END max_depth=100, min_samples_split=10, n_estimators=300; total time=   4.4s\n",
      "[CV] END max_depth=100, min_samples_split=10, n_estimators=300; total time=   4.7s\n",
      "[CV] END max_depth=100, min_samples_split=10, n_estimators=300; total time=   4.4s\n",
      "[CV] END max_depth=100, min_samples_split=10, n_estimators=300; total time=   4.3s\n",
      "[CV] END max_depth=100, min_samples_split=10, n_estimators=1000; total time=  15.3s\n",
      "[CV] END max_depth=100, min_samples_split=10, n_estimators=1000; total time=  15.6s\n",
      "[CV] END max_depth=100, min_samples_split=10, n_estimators=1000; total time=  14.7s\n",
      "[CV] END max_depth=100, min_samples_split=10, n_estimators=1000; total time=  14.7s\n",
      "[CV] END max_depth=100, min_samples_split=10, n_estimators=1000; total time=  14.5s\n",
      "[CV] END max_depth=100, min_samples_split=12, n_estimators=100; total time=   1.3s\n",
      "[CV] END max_depth=100, min_samples_split=12, n_estimators=100; total time=   1.4s\n",
      "[CV] END max_depth=100, min_samples_split=12, n_estimators=100; total time=   1.3s\n",
      "[CV] END max_depth=100, min_samples_split=12, n_estimators=100; total time=   1.3s\n",
      "[CV] END max_depth=100, min_samples_split=12, n_estimators=100; total time=   1.3s\n",
      "[CV] END max_depth=100, min_samples_split=12, n_estimators=200; total time=   2.7s\n",
      "[CV] END max_depth=100, min_samples_split=12, n_estimators=200; total time=   2.8s\n",
      "[CV] END max_depth=100, min_samples_split=12, n_estimators=200; total time=   2.8s\n",
      "[CV] END max_depth=100, min_samples_split=12, n_estimators=200; total time=   2.8s\n",
      "[CV] END max_depth=100, min_samples_split=12, n_estimators=200; total time=   2.7s\n",
      "[CV] END max_depth=100, min_samples_split=12, n_estimators=300; total time=   4.2s\n",
      "[CV] END max_depth=100, min_samples_split=12, n_estimators=300; total time=   4.3s\n",
      "[CV] END max_depth=100, min_samples_split=12, n_estimators=300; total time=   4.2s\n",
      "[CV] END max_depth=100, min_samples_split=12, n_estimators=300; total time=   4.3s\n",
      "[CV] END max_depth=100, min_samples_split=12, n_estimators=300; total time=   4.2s\n",
      "[CV] END max_depth=100, min_samples_split=12, n_estimators=1000; total time=  14.0s\n",
      "[CV] END max_depth=100, min_samples_split=12, n_estimators=1000; total time=  14.3s\n",
      "[CV] END max_depth=100, min_samples_split=12, n_estimators=1000; total time=  14.0s\n",
      "[CV] END max_depth=100, min_samples_split=12, n_estimators=1000; total time=  14.2s\n",
      "[CV] END max_depth=100, min_samples_split=12, n_estimators=1000; total time=  14.1s\n",
      "[CV] END max_depth=110, min_samples_split=8, n_estimators=100; total time=   1.5s\n",
      "[CV] END max_depth=110, min_samples_split=8, n_estimators=100; total time=   1.6s\n",
      "[CV] END max_depth=110, min_samples_split=8, n_estimators=100; total time=   1.5s\n",
      "[CV] END max_depth=110, min_samples_split=8, n_estimators=100; total time=   1.5s\n",
      "[CV] END max_depth=110, min_samples_split=8, n_estimators=100; total time=   1.5s\n",
      "[CV] END max_depth=110, min_samples_split=8, n_estimators=200; total time=   3.1s\n",
      "[CV] END max_depth=110, min_samples_split=8, n_estimators=200; total time=   3.1s\n",
      "[CV] END max_depth=110, min_samples_split=8, n_estimators=200; total time=   3.1s\n",
      "[CV] END max_depth=110, min_samples_split=8, n_estimators=200; total time=   3.1s\n",
      "[CV] END max_depth=110, min_samples_split=8, n_estimators=200; total time=   3.0s\n",
      "[CV] END max_depth=110, min_samples_split=8, n_estimators=300; total time=   4.6s\n",
      "[CV] END max_depth=110, min_samples_split=8, n_estimators=300; total time=   4.7s\n",
      "[CV] END max_depth=110, min_samples_split=8, n_estimators=300; total time=   4.7s\n",
      "[CV] END max_depth=110, min_samples_split=8, n_estimators=300; total time=   4.6s\n",
      "[CV] END max_depth=110, min_samples_split=8, n_estimators=300; total time=   4.6s\n",
      "[CV] END max_depth=110, min_samples_split=8, n_estimators=1000; total time=  15.6s\n",
      "[CV] END max_depth=110, min_samples_split=8, n_estimators=1000; total time=  15.9s\n",
      "[CV] END max_depth=110, min_samples_split=8, n_estimators=1000; total time=  15.6s\n",
      "[CV] END max_depth=110, min_samples_split=8, n_estimators=1000; total time=  15.7s\n",
      "[CV] END max_depth=110, min_samples_split=8, n_estimators=1000; total time=  15.7s\n",
      "[CV] END max_depth=110, min_samples_split=10, n_estimators=100; total time=   1.4s\n",
      "[CV] END max_depth=110, min_samples_split=10, n_estimators=100; total time=   1.5s\n",
      "[CV] END max_depth=110, min_samples_split=10, n_estimators=100; total time=   1.4s\n",
      "[CV] END max_depth=110, min_samples_split=10, n_estimators=100; total time=   1.4s\n",
      "[CV] END max_depth=110, min_samples_split=10, n_estimators=100; total time=   1.4s\n",
      "[CV] END max_depth=110, min_samples_split=10, n_estimators=200; total time=   2.9s\n",
      "[CV] END max_depth=110, min_samples_split=10, n_estimators=200; total time=   3.0s\n",
      "[CV] END max_depth=110, min_samples_split=10, n_estimators=200; total time=   3.0s\n",
      "[CV] END max_depth=110, min_samples_split=10, n_estimators=200; total time=   2.9s\n",
      "[CV] END max_depth=110, min_samples_split=10, n_estimators=200; total time=   2.9s\n",
      "[CV] END max_depth=110, min_samples_split=10, n_estimators=300; total time=   4.4s\n",
      "[CV] END max_depth=110, min_samples_split=10, n_estimators=300; total time=   4.6s\n",
      "[CV] END max_depth=110, min_samples_split=10, n_estimators=300; total time=   4.5s\n",
      "[CV] END max_depth=110, min_samples_split=10, n_estimators=300; total time=   4.5s\n",
      "[CV] END max_depth=110, min_samples_split=10, n_estimators=300; total time=   4.4s\n",
      "[CV] END max_depth=110, min_samples_split=10, n_estimators=1000; total time=  15.0s\n",
      "[CV] END max_depth=110, min_samples_split=10, n_estimators=1000; total time=  15.3s\n",
      "[CV] END max_depth=110, min_samples_split=10, n_estimators=1000; total time=  15.3s\n",
      "[CV] END max_depth=110, min_samples_split=10, n_estimators=1000; total time=  15.1s\n",
      "[CV] END max_depth=110, min_samples_split=10, n_estimators=1000; total time=  15.1s\n",
      "[CV] END max_depth=110, min_samples_split=12, n_estimators=100; total time=   1.4s\n",
      "[CV] END max_depth=110, min_samples_split=12, n_estimators=100; total time=   1.4s\n",
      "[CV] END max_depth=110, min_samples_split=12, n_estimators=100; total time=   1.4s\n",
      "[CV] END max_depth=110, min_samples_split=12, n_estimators=100; total time=   1.4s\n",
      "[CV] END max_depth=110, min_samples_split=12, n_estimators=100; total time=   1.4s\n",
      "[CV] END max_depth=110, min_samples_split=12, n_estimators=200; total time=   2.8s\n",
      "[CV] END max_depth=110, min_samples_split=12, n_estimators=200; total time=   2.9s\n",
      "[CV] END max_depth=110, min_samples_split=12, n_estimators=200; total time=   2.8s\n",
      "[CV] END max_depth=110, min_samples_split=12, n_estimators=200; total time=   2.9s\n",
      "[CV] END max_depth=110, min_samples_split=12, n_estimators=200; total time=   2.8s\n",
      "[CV] END max_depth=110, min_samples_split=12, n_estimators=300; total time=   4.3s\n",
      "[CV] END max_depth=110, min_samples_split=12, n_estimators=300; total time=   4.4s\n",
      "[CV] END max_depth=110, min_samples_split=12, n_estimators=300; total time=   4.3s\n",
      "[CV] END max_depth=110, min_samples_split=12, n_estimators=300; total time=   4.3s\n",
      "[CV] END max_depth=110, min_samples_split=12, n_estimators=300; total time=   4.3s\n",
      "[CV] END max_depth=110, min_samples_split=12, n_estimators=1000; total time=  14.8s\n",
      "[CV] END max_depth=110, min_samples_split=12, n_estimators=1000; total time=  14.7s\n",
      "[CV] END max_depth=110, min_samples_split=12, n_estimators=1000; total time=  14.6s\n",
      "[CV] END max_depth=110, min_samples_split=12, n_estimators=1000; total time=  14.7s\n",
      "[CV] END max_depth=110, min_samples_split=12, n_estimators=1000; total time=  14.7s\n",
      "Fitting 5 folds for each of 36 candidates, totalling 180 fits\n",
      "[CV] END ...metric=minkowski, n_neighbors=5, weights=uniform; total time=   0.0s\n",
      "[CV] END ...metric=minkowski, n_neighbors=5, weights=uniform; total time=   0.0s\n",
      "[CV] END ...metric=minkowski, n_neighbors=5, weights=uniform; total time=   0.0s\n",
      "[CV] END ...metric=minkowski, n_neighbors=5, weights=uniform; total time=   0.0s\n",
      "[CV] END ...metric=minkowski, n_neighbors=5, weights=uniform; total time=   0.0s\n",
      "[CV] END ..metric=minkowski, n_neighbors=5, weights=distance; total time=   0.0s\n",
      "[CV] END ..metric=minkowski, n_neighbors=5, weights=distance; total time=   0.0s\n",
      "[CV] END ..metric=minkowski, n_neighbors=5, weights=distance; total time=   0.0s\n",
      "[CV] END ..metric=minkowski, n_neighbors=5, weights=distance; total time=   0.0s\n",
      "[CV] END ..metric=minkowski, n_neighbors=5, weights=distance; total time=   0.0s\n",
      "[CV] END ...metric=minkowski, n_neighbors=7, weights=uniform; total time=   0.0s\n",
      "[CV] END ...metric=minkowski, n_neighbors=7, weights=uniform; total time=   0.0s\n",
      "[CV] END ...metric=minkowski, n_neighbors=7, weights=uniform; total time=   0.0s\n",
      "[CV] END ...metric=minkowski, n_neighbors=7, weights=uniform; total time=   0.0s\n",
      "[CV] END ...metric=minkowski, n_neighbors=7, weights=uniform; total time=   0.0s\n",
      "[CV] END ..metric=minkowski, n_neighbors=7, weights=distance; total time=   0.0s\n",
      "[CV] END ..metric=minkowski, n_neighbors=7, weights=distance; total time=   0.0s\n",
      "[CV] END ..metric=minkowski, n_neighbors=7, weights=distance; total time=   0.0s\n",
      "[CV] END ..metric=minkowski, n_neighbors=7, weights=distance; total time=   0.0s\n",
      "[CV] END ..metric=minkowski, n_neighbors=7, weights=distance; total time=   0.0s\n",
      "[CV] END ...metric=minkowski, n_neighbors=9, weights=uniform; total time=   0.0s\n",
      "[CV] END ...metric=minkowski, n_neighbors=9, weights=uniform; total time=   0.0s\n",
      "[CV] END ...metric=minkowski, n_neighbors=9, weights=uniform; total time=   0.0s\n",
      "[CV] END ...metric=minkowski, n_neighbors=9, weights=uniform; total time=   0.0s\n",
      "[CV] END ...metric=minkowski, n_neighbors=9, weights=uniform; total time=   0.0s\n",
      "[CV] END ..metric=minkowski, n_neighbors=9, weights=distance; total time=   0.0s\n",
      "[CV] END ..metric=minkowski, n_neighbors=9, weights=distance; total time=   0.0s\n",
      "[CV] END ..metric=minkowski, n_neighbors=9, weights=distance; total time=   0.0s\n",
      "[CV] END ..metric=minkowski, n_neighbors=9, weights=distance; total time=   0.0s\n",
      "[CV] END ..metric=minkowski, n_neighbors=9, weights=distance; total time=   0.0s\n",
      "[CV] END ..metric=minkowski, n_neighbors=11, weights=uniform; total time=   0.0s\n",
      "[CV] END ..metric=minkowski, n_neighbors=11, weights=uniform; total time=   0.0s\n",
      "[CV] END ..metric=minkowski, n_neighbors=11, weights=uniform; total time=   0.0s\n",
      "[CV] END ..metric=minkowski, n_neighbors=11, weights=uniform; total time=   0.0s\n",
      "[CV] END ..metric=minkowski, n_neighbors=11, weights=uniform; total time=   0.0s\n",
      "[CV] END .metric=minkowski, n_neighbors=11, weights=distance; total time=   0.0s\n",
      "[CV] END .metric=minkowski, n_neighbors=11, weights=distance; total time=   0.0s\n",
      "[CV] END .metric=minkowski, n_neighbors=11, weights=distance; total time=   0.0s\n",
      "[CV] END .metric=minkowski, n_neighbors=11, weights=distance; total time=   0.0s\n",
      "[CV] END .metric=minkowski, n_neighbors=11, weights=distance; total time=   0.0s\n",
      "[CV] END ..metric=minkowski, n_neighbors=13, weights=uniform; total time=   0.0s\n",
      "[CV] END ..metric=minkowski, n_neighbors=13, weights=uniform; total time=   0.0s\n",
      "[CV] END ..metric=minkowski, n_neighbors=13, weights=uniform; total time=   0.0s\n",
      "[CV] END ..metric=minkowski, n_neighbors=13, weights=uniform; total time=   0.0s\n",
      "[CV] END ..metric=minkowski, n_neighbors=13, weights=uniform; total time=   0.0s\n",
      "[CV] END .metric=minkowski, n_neighbors=13, weights=distance; total time=   0.0s\n",
      "[CV] END .metric=minkowski, n_neighbors=13, weights=distance; total time=   0.0s\n",
      "[CV] END .metric=minkowski, n_neighbors=13, weights=distance; total time=   0.0s\n",
      "[CV] END .metric=minkowski, n_neighbors=13, weights=distance; total time=   0.0s\n",
      "[CV] END .metric=minkowski, n_neighbors=13, weights=distance; total time=   0.0s\n",
      "[CV] END ..metric=minkowski, n_neighbors=15, weights=uniform; total time=   0.0s\n",
      "[CV] END ..metric=minkowski, n_neighbors=15, weights=uniform; total time=   0.0s\n",
      "[CV] END ..metric=minkowski, n_neighbors=15, weights=uniform; total time=   0.0s\n",
      "[CV] END ..metric=minkowski, n_neighbors=15, weights=uniform; total time=   0.0s\n",
      "[CV] END ..metric=minkowski, n_neighbors=15, weights=uniform; total time=   0.0s\n",
      "[CV] END .metric=minkowski, n_neighbors=15, weights=distance; total time=   0.0s\n",
      "[CV] END .metric=minkowski, n_neighbors=15, weights=distance; total time=   0.0s\n",
      "[CV] END .metric=minkowski, n_neighbors=15, weights=distance; total time=   0.0s\n",
      "[CV] END .metric=minkowski, n_neighbors=15, weights=distance; total time=   0.0s\n",
      "[CV] END .metric=minkowski, n_neighbors=15, weights=distance; total time=   0.0s\n",
      "[CV] END ...metric=euclidean, n_neighbors=5, weights=uniform; total time=   0.0s\n",
      "[CV] END ...metric=euclidean, n_neighbors=5, weights=uniform; total time=   0.0s\n",
      "[CV] END ...metric=euclidean, n_neighbors=5, weights=uniform; total time=   0.0s\n",
      "[CV] END ...metric=euclidean, n_neighbors=5, weights=uniform; total time=   0.0s\n",
      "[CV] END ...metric=euclidean, n_neighbors=5, weights=uniform; total time=   0.0s\n",
      "[CV] END ..metric=euclidean, n_neighbors=5, weights=distance; total time=   0.0s\n",
      "[CV] END ..metric=euclidean, n_neighbors=5, weights=distance; total time=   0.0s\n",
      "[CV] END ..metric=euclidean, n_neighbors=5, weights=distance; total time=   0.0s\n",
      "[CV] END ..metric=euclidean, n_neighbors=5, weights=distance; total time=   0.0s\n",
      "[CV] END ..metric=euclidean, n_neighbors=5, weights=distance; total time=   0.0s\n",
      "[CV] END ...metric=euclidean, n_neighbors=7, weights=uniform; total time=   0.0s\n",
      "[CV] END ...metric=euclidean, n_neighbors=7, weights=uniform; total time=   0.0s\n",
      "[CV] END ...metric=euclidean, n_neighbors=7, weights=uniform; total time=   0.0s\n",
      "[CV] END ...metric=euclidean, n_neighbors=7, weights=uniform; total time=   0.0s\n",
      "[CV] END ...metric=euclidean, n_neighbors=7, weights=uniform; total time=   0.0s\n",
      "[CV] END ..metric=euclidean, n_neighbors=7, weights=distance; total time=   0.0s\n",
      "[CV] END ..metric=euclidean, n_neighbors=7, weights=distance; total time=   0.0s\n",
      "[CV] END ..metric=euclidean, n_neighbors=7, weights=distance; total time=   0.0s\n",
      "[CV] END ..metric=euclidean, n_neighbors=7, weights=distance; total time=   0.0s\n",
      "[CV] END ..metric=euclidean, n_neighbors=7, weights=distance; total time=   0.0s\n",
      "[CV] END ...metric=euclidean, n_neighbors=9, weights=uniform; total time=   0.0s\n",
      "[CV] END ...metric=euclidean, n_neighbors=9, weights=uniform; total time=   0.0s\n",
      "[CV] END ...metric=euclidean, n_neighbors=9, weights=uniform; total time=   0.0s\n",
      "[CV] END ...metric=euclidean, n_neighbors=9, weights=uniform; total time=   0.0s\n",
      "[CV] END ...metric=euclidean, n_neighbors=9, weights=uniform; total time=   0.0s\n",
      "[CV] END ..metric=euclidean, n_neighbors=9, weights=distance; total time=   0.0s\n",
      "[CV] END ..metric=euclidean, n_neighbors=9, weights=distance; total time=   0.0s\n",
      "[CV] END ..metric=euclidean, n_neighbors=9, weights=distance; total time=   0.0s\n",
      "[CV] END ..metric=euclidean, n_neighbors=9, weights=distance; total time=   0.0s\n",
      "[CV] END ..metric=euclidean, n_neighbors=9, weights=distance; total time=   0.0s\n",
      "[CV] END ..metric=euclidean, n_neighbors=11, weights=uniform; total time=   0.0s\n",
      "[CV] END ..metric=euclidean, n_neighbors=11, weights=uniform; total time=   0.0s\n",
      "[CV] END ..metric=euclidean, n_neighbors=11, weights=uniform; total time=   0.0s\n",
      "[CV] END ..metric=euclidean, n_neighbors=11, weights=uniform; total time=   0.0s\n",
      "[CV] END ..metric=euclidean, n_neighbors=11, weights=uniform; total time=   0.0s\n",
      "[CV] END .metric=euclidean, n_neighbors=11, weights=distance; total time=   0.0s\n",
      "[CV] END .metric=euclidean, n_neighbors=11, weights=distance; total time=   0.0s\n",
      "[CV] END .metric=euclidean, n_neighbors=11, weights=distance; total time=   0.0s\n",
      "[CV] END .metric=euclidean, n_neighbors=11, weights=distance; total time=   0.0s\n",
      "[CV] END .metric=euclidean, n_neighbors=11, weights=distance; total time=   0.0s\n",
      "[CV] END ..metric=euclidean, n_neighbors=13, weights=uniform; total time=   0.0s\n",
      "[CV] END ..metric=euclidean, n_neighbors=13, weights=uniform; total time=   0.0s\n",
      "[CV] END ..metric=euclidean, n_neighbors=13, weights=uniform; total time=   0.0s\n",
      "[CV] END ..metric=euclidean, n_neighbors=13, weights=uniform; total time=   0.0s\n",
      "[CV] END ..metric=euclidean, n_neighbors=13, weights=uniform; total time=   0.0s\n",
      "[CV] END .metric=euclidean, n_neighbors=13, weights=distance; total time=   0.0s\n",
      "[CV] END .metric=euclidean, n_neighbors=13, weights=distance; total time=   0.0s\n",
      "[CV] END .metric=euclidean, n_neighbors=13, weights=distance; total time=   0.0s\n",
      "[CV] END .metric=euclidean, n_neighbors=13, weights=distance; total time=   0.0s\n",
      "[CV] END .metric=euclidean, n_neighbors=13, weights=distance; total time=   0.0s\n",
      "[CV] END ..metric=euclidean, n_neighbors=15, weights=uniform; total time=   0.0s\n",
      "[CV] END ..metric=euclidean, n_neighbors=15, weights=uniform; total time=   0.0s\n",
      "[CV] END ..metric=euclidean, n_neighbors=15, weights=uniform; total time=   0.0s\n",
      "[CV] END ..metric=euclidean, n_neighbors=15, weights=uniform; total time=   0.0s\n",
      "[CV] END ..metric=euclidean, n_neighbors=15, weights=uniform; total time=   0.0s\n",
      "[CV] END .metric=euclidean, n_neighbors=15, weights=distance; total time=   0.0s\n",
      "[CV] END .metric=euclidean, n_neighbors=15, weights=distance; total time=   0.0s\n",
      "[CV] END .metric=euclidean, n_neighbors=15, weights=distance; total time=   0.0s\n",
      "[CV] END .metric=euclidean, n_neighbors=15, weights=distance; total time=   0.0s\n",
      "[CV] END .metric=euclidean, n_neighbors=15, weights=distance; total time=   0.0s\n",
      "[CV] END ...metric=manhattan, n_neighbors=5, weights=uniform; total time=   0.1s\n",
      "[CV] END ...metric=manhattan, n_neighbors=5, weights=uniform; total time=   0.0s\n",
      "[CV] END ...metric=manhattan, n_neighbors=5, weights=uniform; total time=   0.0s\n",
      "[CV] END ...metric=manhattan, n_neighbors=5, weights=uniform; total time=   0.0s\n",
      "[CV] END ...metric=manhattan, n_neighbors=5, weights=uniform; total time=   0.0s\n",
      "[CV] END ..metric=manhattan, n_neighbors=5, weights=distance; total time=   0.0s\n",
      "[CV] END ..metric=manhattan, n_neighbors=5, weights=distance; total time=   0.0s\n",
      "[CV] END ..metric=manhattan, n_neighbors=5, weights=distance; total time=   0.0s\n",
      "[CV] END ..metric=manhattan, n_neighbors=5, weights=distance; total time=   0.0s\n",
      "[CV] END ..metric=manhattan, n_neighbors=5, weights=distance; total time=   0.0s\n",
      "[CV] END ...metric=manhattan, n_neighbors=7, weights=uniform; total time=   0.0s\n",
      "[CV] END ...metric=manhattan, n_neighbors=7, weights=uniform; total time=   0.0s\n",
      "[CV] END ...metric=manhattan, n_neighbors=7, weights=uniform; total time=   0.0s\n",
      "[CV] END ...metric=manhattan, n_neighbors=7, weights=uniform; total time=   0.0s\n",
      "[CV] END ...metric=manhattan, n_neighbors=7, weights=uniform; total time=   0.0s\n",
      "[CV] END ..metric=manhattan, n_neighbors=7, weights=distance; total time=   0.0s\n",
      "[CV] END ..metric=manhattan, n_neighbors=7, weights=distance; total time=   0.0s\n",
      "[CV] END ..metric=manhattan, n_neighbors=7, weights=distance; total time=   0.0s\n",
      "[CV] END ..metric=manhattan, n_neighbors=7, weights=distance; total time=   0.0s\n",
      "[CV] END ..metric=manhattan, n_neighbors=7, weights=distance; total time=   0.0s\n",
      "[CV] END ...metric=manhattan, n_neighbors=9, weights=uniform; total time=   0.0s\n",
      "[CV] END ...metric=manhattan, n_neighbors=9, weights=uniform; total time=   0.0s\n",
      "[CV] END ...metric=manhattan, n_neighbors=9, weights=uniform; total time=   0.0s\n",
      "[CV] END ...metric=manhattan, n_neighbors=9, weights=uniform; total time=   0.0s\n",
      "[CV] END ...metric=manhattan, n_neighbors=9, weights=uniform; total time=   0.0s\n",
      "[CV] END ..metric=manhattan, n_neighbors=9, weights=distance; total time=   0.0s\n",
      "[CV] END ..metric=manhattan, n_neighbors=9, weights=distance; total time=   0.0s\n",
      "[CV] END ..metric=manhattan, n_neighbors=9, weights=distance; total time=   0.0s\n",
      "[CV] END ..metric=manhattan, n_neighbors=9, weights=distance; total time=   0.0s\n",
      "[CV] END ..metric=manhattan, n_neighbors=9, weights=distance; total time=   0.0s\n",
      "[CV] END ..metric=manhattan, n_neighbors=11, weights=uniform; total time=   0.0s\n",
      "[CV] END ..metric=manhattan, n_neighbors=11, weights=uniform; total time=   0.0s\n",
      "[CV] END ..metric=manhattan, n_neighbors=11, weights=uniform; total time=   0.0s\n",
      "[CV] END ..metric=manhattan, n_neighbors=11, weights=uniform; total time=   0.0s\n",
      "[CV] END ..metric=manhattan, n_neighbors=11, weights=uniform; total time=   0.0s\n",
      "[CV] END .metric=manhattan, n_neighbors=11, weights=distance; total time=   0.0s\n",
      "[CV] END .metric=manhattan, n_neighbors=11, weights=distance; total time=   0.0s\n",
      "[CV] END .metric=manhattan, n_neighbors=11, weights=distance; total time=   0.0s\n",
      "[CV] END .metric=manhattan, n_neighbors=11, weights=distance; total time=   0.0s\n",
      "[CV] END .metric=manhattan, n_neighbors=11, weights=distance; total time=   0.0s\n",
      "[CV] END ..metric=manhattan, n_neighbors=13, weights=uniform; total time=   0.0s\n",
      "[CV] END ..metric=manhattan, n_neighbors=13, weights=uniform; total time=   0.0s\n",
      "[CV] END ..metric=manhattan, n_neighbors=13, weights=uniform; total time=   0.0s\n",
      "[CV] END ..metric=manhattan, n_neighbors=13, weights=uniform; total time=   0.0s\n",
      "[CV] END ..metric=manhattan, n_neighbors=13, weights=uniform; total time=   0.0s\n",
      "[CV] END .metric=manhattan, n_neighbors=13, weights=distance; total time=   0.0s\n",
      "[CV] END .metric=manhattan, n_neighbors=13, weights=distance; total time=   0.0s\n",
      "[CV] END .metric=manhattan, n_neighbors=13, weights=distance; total time=   0.0s\n",
      "[CV] END .metric=manhattan, n_neighbors=13, weights=distance; total time=   0.0s\n",
      "[CV] END .metric=manhattan, n_neighbors=13, weights=distance; total time=   0.0s\n",
      "[CV] END ..metric=manhattan, n_neighbors=15, weights=uniform; total time=   0.0s\n",
      "[CV] END ..metric=manhattan, n_neighbors=15, weights=uniform; total time=   0.0s\n",
      "[CV] END ..metric=manhattan, n_neighbors=15, weights=uniform; total time=   0.0s\n",
      "[CV] END ..metric=manhattan, n_neighbors=15, weights=uniform; total time=   0.0s\n",
      "[CV] END ..metric=manhattan, n_neighbors=15, weights=uniform; total time=   0.0s\n",
      "[CV] END .metric=manhattan, n_neighbors=15, weights=distance; total time=   0.0s\n",
      "[CV] END .metric=manhattan, n_neighbors=15, weights=distance; total time=   0.0s\n",
      "[CV] END .metric=manhattan, n_neighbors=15, weights=distance; total time=   0.0s\n",
      "[CV] END .metric=manhattan, n_neighbors=15, weights=distance; total time=   0.0s\n",
      "[CV] END .metric=manhattan, n_neighbors=15, weights=distance; total time=   0.0s\n"
     ]
    }
   ],
   "source": [
    "for model_name, mp in model_params.items():\n",
    "    clf = GridSearchCV(mp['model'], mp['params'], cv=5, return_train_score=True, verbose=2)\n",
    "    clf.fit(X_train, y_train)\n",
    "    scores.append({\n",
    "        \n",
    "        'model':model_name,\n",
    "        'best_score':clf.best_score_,\n",
    "        'best_params':clf.best_params_\n",
    "    })"
   ]
  },
  {
   "cell_type": "code",
   "execution_count": 11,
   "id": "e5b5e034-f5e8-46c2-a259-835bb15cd918",
   "metadata": {},
   "outputs": [
    {
     "name": "stdout",
     "output_type": "stream",
     "text": [
      "                   model  best_score  \\\n",
      "0                    svm    0.928874   \n",
      "1    logistic_regression    0.952763   \n",
      "2          random_forest    0.953293   \n",
      "3  KNeighboursClassifier    0.883238   \n",
      "\n",
      "                                         best_params  \n",
      "0                        {'C': 100, 'kernel': 'rbf'}  \n",
      "1                                           {'C': 5}  \n",
      "2  {'max_depth': 80, 'min_samples_split': 8, 'n_e...  \n",
      "3  {'metric': 'minkowski', 'n_neighbors': 5, 'wei...  \n"
     ]
    }
   ],
   "source": [
    "df = pd.DataFrame(scores, columns=['model','best_score', 'best_params'])\n",
    "print(df)"
   ]
  },
  {
   "cell_type": "code",
   "execution_count": 12,
   "id": "c307766c-f39c-4198-b3a1-185026c10c18",
   "metadata": {},
   "outputs": [],
   "source": [
    "num_trees = 50\n",
    "rf_model = RandomForestClassifier(max_depth=100, min_samples_split=8, n_estimators=1000)\n",
    "rf_model = RandomForestClassifier()"
   ]
  },
  {
   "cell_type": "markdown",
   "id": "6254a5de-acd0-4cad-a2d9-af385932c900",
   "metadata": {},
   "source": [
    "## Model Training"
   ]
  },
  {
   "cell_type": "code",
   "execution_count": 13,
   "id": "2c07f80b-20b2-410d-9654-fe148ad86a66",
   "metadata": {},
   "outputs": [
    {
     "data": {
      "text/html": [
       "<style>#sk-container-id-1 {color: black;}#sk-container-id-1 pre{padding: 0;}#sk-container-id-1 div.sk-toggleable {background-color: white;}#sk-container-id-1 label.sk-toggleable__label {cursor: pointer;display: block;width: 100%;margin-bottom: 0;padding: 0.3em;box-sizing: border-box;text-align: center;}#sk-container-id-1 label.sk-toggleable__label-arrow:before {content: \"▸\";float: left;margin-right: 0.25em;color: #696969;}#sk-container-id-1 label.sk-toggleable__label-arrow:hover:before {color: black;}#sk-container-id-1 div.sk-estimator:hover label.sk-toggleable__label-arrow:before {color: black;}#sk-container-id-1 div.sk-toggleable__content {max-height: 0;max-width: 0;overflow: hidden;text-align: left;background-color: #f0f8ff;}#sk-container-id-1 div.sk-toggleable__content pre {margin: 0.2em;color: black;border-radius: 0.25em;background-color: #f0f8ff;}#sk-container-id-1 input.sk-toggleable__control:checked~div.sk-toggleable__content {max-height: 200px;max-width: 100%;overflow: auto;}#sk-container-id-1 input.sk-toggleable__control:checked~label.sk-toggleable__label-arrow:before {content: \"▾\";}#sk-container-id-1 div.sk-estimator input.sk-toggleable__control:checked~label.sk-toggleable__label {background-color: #d4ebff;}#sk-container-id-1 div.sk-label input.sk-toggleable__control:checked~label.sk-toggleable__label {background-color: #d4ebff;}#sk-container-id-1 input.sk-hidden--visually {border: 0;clip: rect(1px 1px 1px 1px);clip: rect(1px, 1px, 1px, 1px);height: 1px;margin: -1px;overflow: hidden;padding: 0;position: absolute;width: 1px;}#sk-container-id-1 div.sk-estimator {font-family: monospace;background-color: #f0f8ff;border: 1px dotted black;border-radius: 0.25em;box-sizing: border-box;margin-bottom: 0.5em;}#sk-container-id-1 div.sk-estimator:hover {background-color: #d4ebff;}#sk-container-id-1 div.sk-parallel-item::after {content: \"\";width: 100%;border-bottom: 1px solid gray;flex-grow: 1;}#sk-container-id-1 div.sk-label:hover label.sk-toggleable__label {background-color: #d4ebff;}#sk-container-id-1 div.sk-serial::before {content: \"\";position: absolute;border-left: 1px solid gray;box-sizing: border-box;top: 0;bottom: 0;left: 50%;z-index: 0;}#sk-container-id-1 div.sk-serial {display: flex;flex-direction: column;align-items: center;background-color: white;padding-right: 0.2em;padding-left: 0.2em;position: relative;}#sk-container-id-1 div.sk-item {position: relative;z-index: 1;}#sk-container-id-1 div.sk-parallel {display: flex;align-items: stretch;justify-content: center;background-color: white;position: relative;}#sk-container-id-1 div.sk-item::before, #sk-container-id-1 div.sk-parallel-item::before {content: \"\";position: absolute;border-left: 1px solid gray;box-sizing: border-box;top: 0;bottom: 0;left: 50%;z-index: -1;}#sk-container-id-1 div.sk-parallel-item {display: flex;flex-direction: column;z-index: 1;position: relative;background-color: white;}#sk-container-id-1 div.sk-parallel-item:first-child::after {align-self: flex-end;width: 50%;}#sk-container-id-1 div.sk-parallel-item:last-child::after {align-self: flex-start;width: 50%;}#sk-container-id-1 div.sk-parallel-item:only-child::after {width: 0;}#sk-container-id-1 div.sk-dashed-wrapped {border: 1px dashed gray;margin: 0 0.4em 0.5em 0.4em;box-sizing: border-box;padding-bottom: 0.4em;background-color: white;}#sk-container-id-1 div.sk-label label {font-family: monospace;font-weight: bold;display: inline-block;line-height: 1.2em;}#sk-container-id-1 div.sk-label-container {text-align: center;}#sk-container-id-1 div.sk-container {/* jupyter's `normalize.less` sets `[hidden] { display: none; }` but bootstrap.min.css set `[hidden] { display: none !important; }` so we also need the `!important` here to be able to override the default hidden behavior on the sphinx rendered scikit-learn.org. See: https://github.com/scikit-learn/scikit-learn/issues/21755 */display: inline-block !important;position: relative;}#sk-container-id-1 div.sk-text-repr-fallback {display: none;}</style><div id=\"sk-container-id-1\" class=\"sk-top-container\"><div class=\"sk-text-repr-fallback\"><pre>RandomForestClassifier()</pre><b>In a Jupyter environment, please rerun this cell to show the HTML representation or trust the notebook. <br />On GitHub, the HTML representation is unable to render, please try loading this page with nbviewer.org.</b></div><div class=\"sk-container\" hidden><div class=\"sk-item\"><div class=\"sk-estimator sk-toggleable\"><input class=\"sk-toggleable__control sk-hidden--visually\" id=\"sk-estimator-id-1\" type=\"checkbox\" checked><label for=\"sk-estimator-id-1\" class=\"sk-toggleable__label sk-toggleable__label-arrow\">RandomForestClassifier</label><div class=\"sk-toggleable__content\"><pre>RandomForestClassifier()</pre></div></div></div></div></div>"
      ],
      "text/plain": [
       "RandomForestClassifier()"
      ]
     },
     "execution_count": 13,
     "metadata": {},
     "output_type": "execute_result"
    }
   ],
   "source": [
    "# Fit theKNeighborsClassifier model\n",
    "rf_model.fit(X_train, y_train)"
   ]
  },
  {
   "cell_type": "markdown",
   "id": "66de3e8f-82db-4703-b0e4-6904be1ef67c",
   "metadata": {},
   "source": [
    "## Saving the Model"
   ]
  },
  {
   "cell_type": "code",
   "execution_count": 14,
   "id": "25f3688c-8a3b-45c3-9600-9d806e4cbe81",
   "metadata": {},
   "outputs": [
    {
     "data": {
      "text/plain": [
       "['Dark Pattern Detection model_Random_forest.joblib']"
      ]
     },
     "execution_count": 14,
     "metadata": {},
     "output_type": "execute_result"
    }
   ],
   "source": [
    "from joblib import dump\n",
    "dump(rf_model, 'Dark Pattern Detection model_Random_forest.joblib') "
   ]
  },
  {
   "cell_type": "markdown",
   "id": "c03e9438-acfa-4476-bbd3-7feda05fe533",
   "metadata": {},
   "source": [
    "## Testing model on test set"
   ]
  },
  {
   "cell_type": "code",
   "execution_count": 16,
   "id": "7ed4f145-14ea-44a3-bdc9-63bf731c884b",
   "metadata": {},
   "outputs": [
    {
     "name": "stdout",
     "output_type": "stream",
     "text": [
      "Making predictions for the following in train set:\n",
      "True values are  1025    0\n",
      "1135    0\n",
      "742     1\n",
      "324     1\n",
      "873     0\n",
      "374     1\n",
      "1978    1\n",
      "1337    0\n",
      "1279    0\n",
      "1061    0\n",
      "Name: label, dtype: int64\n",
      "The predicted values are [0 0 1 1 0 1 1 0 0 0]\n",
      "Diff 1025    0\n",
      "1135    0\n",
      "742     0\n",
      "324     0\n",
      "873     0\n",
      "374     0\n",
      "1978    0\n",
      "1337    0\n",
      "1279    0\n",
      "1061    0\n",
      "Name: label, dtype: int64\n"
     ]
    }
   ],
   "source": [
    "print(\"Making predictions for the following in train set:\")\n",
    "predicted_values = rf_model.predict(X_train[0:10,:])\n",
    "true_values = y_train[0:10]\n",
    "print(\"True values are \", true_values)\n",
    "print(\"The predicted values are\", predicted_values)\n",
    "print(\"Diff\", abs(predicted_values-true_values))"
   ]
  },
  {
   "cell_type": "code",
   "execution_count": 18,
   "id": "4736c6cb-72f8-418d-9702-23ab276426bb",
   "metadata": {},
   "outputs": [
    {
     "name": "stdout",
     "output_type": "stream",
     "text": [
      "average Train error  0.0\n",
      "Accuracy Score in Testing set 10\n"
     ]
    }
   ],
   "source": [
    "from sklearn.metrics import accuracy_score\n",
    "import numpy as np\n",
    "# Average training error\n",
    "dfTest = y_train-rf_model.predict(X_train)\n",
    "print(\"average Train error \", np.absolute(dfTest).mean())\n",
    "\n",
    "# Accuracy Score in Testing set\n",
    "testing_accuracy = accuracy_score(true_values, predicted_values, normalize=False)\n",
    "print(\"Accuracy Score in Testing set\", testing_accuracy)"
   ]
  },
  {
   "cell_type": "markdown",
   "id": "cdf9fd12-dd5b-4db2-9bbd-4569ad25f99b",
   "metadata": {},
   "source": [
    "## Draw confusion matrix"
   ]
  },
  {
   "cell_type": "code",
   "execution_count": 20,
   "id": "e394bcd7-f5e1-4473-a3fa-d6667855e8cd",
   "metadata": {},
   "outputs": [],
   "source": [
    "%matplotlib inline"
   ]
  },
  {
   "cell_type": "code",
   "execution_count": 22,
   "id": "a60e6f4f-90ac-4d5b-aebf-224ad1780411",
   "metadata": {},
   "outputs": [
    {
     "data": {
      "image/png": "[encoded data removed]",
      "text/plain": [
       "<Figure size 640x480 with 2 Axes>"
      ]
     },
     "metadata": {},
     "output_type": "display_data"
    },
    {
     "data": {
      "image/png": "[encoded data removed]",
      "text/plain": [
       "<Figure size 640x480 with 2 Axes>"
      ]
     },
     "metadata": {},
     "output_type": "display_data"
    }
   ],
   "source": [
    "import matplotlib.pyplot as plt\n",
    "from sklearn.metrics import ConfusionMatrixDisplay\n",
    "from sklearn.metrics import confusion_matrix\n",
    "\n",
    "# Assuming y_train and y_test are arrays/lists of discrete class labels\n",
    "# Ensure that rf_model is a trained classifier\n",
    "# x_train and x_test should be your feature data\n",
    "\n",
    "# Plot the confusion matrix for training data including numbers in the plot\n",
    "cm_train = confusion_matrix(y_train, rf_model.predict(X_train))\n",
    "ConfusionMatrixDisplay(confusion_matrix=cm_train, display_labels=rf_model.classes_).plot(cmap='gist_earth', values_format='d')\n",
    "plt.title(\"Confusion Matrix (Training)\")\n",
    "\n",
    "# Plot the confusion matrix for testing data, include numbers in the plot\n",
    "cm_test = confusion_matrix(y_test, rf_model.predict(X_test))\n",
    "ConfusionMatrixDisplay(confusion_matrix=cm_test, display_labels=rf_model.classes_).plot(cmap='gist_earth', values_format='d')\n",
    "plt.title(\"Confusion Matrix (Testing)\")\n",
    "\n",
    "plt.show()"
   ]
  },
  {
   "cell_type": "code",
   "execution_count": 23,
   "id": "06d79501-4fed-437b-82ef-f04da4b75d66",
   "metadata": {},
   "outputs": [
    {
     "name": "stdout",
     "output_type": "stream",
     "text": [
      "Average Training accuracy  1.0\n",
      "Average Testing Accuracy 0.9300847457627118\n"
     ]
    }
   ],
   "source": [
    "# average Training accuracy\n",
    "training_accuracy = accuracy_score(y_train, rf_model.predict(X_train))\n",
    "print(\"Average Training accuracy \", training_accuracy)\n",
    "\n",
    "# average Testing Accuracy\n",
    "testing_accuracy = accuracy_score(y_test, rf_model.predict(X_test))\n",
    "print(\"Average Testing Accuracy\", testing_accuracy)"
   ]
  },
  {
   "cell_type": "markdown",
   "id": "6deccf01-8df6-4d0c-ad90-fc51682dc856",
   "metadata": {},
   "source": [
    "## Precission of model"
   ]
  },
  {
   "cell_type": "code",
   "execution_count": 24,
   "id": "322612c6-18f9-4c6c-b1cf-ef799c71dfb2",
   "metadata": {},
   "outputs": [
    {
     "name": "stdout",
     "output_type": "stream",
     "text": [
      "Precision: 0.930533428890096\n"
     ]
    }
   ],
   "source": [
    "from sklearn.metrics import  precision_score, recall_score, f1_score, precision_recall_curve\n",
    "\n",
    "precision = precision_score(y_test, rf_model.predict(X_test), average='weighted')\n",
    "print(\"Precision:\", precision)"
   ]
  },
  {
   "cell_type": "code",
   "execution_count": 25,
   "id": "96137b74-062f-4e47-bbed-1f2ec14462d2",
   "metadata": {},
   "outputs": [
    {
     "name": "stdout",
     "output_type": "stream",
     "text": [
      "Recall: 0.9300847457627118\n"
     ]
    }
   ],
   "source": [
    "recall = recall_score(y_test, rf_model.predict(X_test), average='weighted')\n",
    "print(\"Recall:\", recall)"
   ]
  },
  {
   "cell_type": "code",
   "execution_count": 26,
   "id": "594cff08-ee87-48ae-a6d4-072f0747cf91",
   "metadata": {},
   "outputs": [
    {
     "name": "stdout",
     "output_type": "stream",
     "text": [
      "F1: 0.930104523947186\n"
     ]
    }
   ],
   "source": [
    "F1 = f1_score(y_test, rf_model.predict(X_test), average='weighted')\n",
    "print(\"F1:\", F1)"
   ]
  },
  {
   "cell_type": "code",
   "execution_count": 27,
   "id": "72c76da4-7f79-45c2-bad9-5d932e1724b3",
   "metadata": {},
   "outputs": [
    {
     "data": {
      "image/png": "[encoded data removed]",
      "text/plain": [
       "<Figure size 640x480 with 1 Axes>"
      ]
     },
     "metadata": {},
     "output_type": "display_data"
    }
   ],
   "source": [
    "# Precesion recall curve\n",
    "from sklearn.metrics import precision_recall_curve\n",
    "import matplotlib.pyplot as plt\n",
    "\n",
    "# Predict probabilities\n",
    "y_scores = rf_model.predict_proba(X_test)\n",
    "\n",
    "# Compute Precision-Recall and plot curve\n",
    "precision, recall, thresholds = precision_recall_curve(y_test, y_scores[:, 1])\n",
    "\n",
    "plt.figure()\n",
    "plt.plot(recall, precision, label='Precision-Recall curve')\n",
    "plt.xlabel('Recall')\n",
    "plt.ylabel('Precision')\n",
    "plt.ylim([0.0, 1.05])\n",
    "plt.xlim([0.0, 1.0])\n",
    "plt.title('Precision-Recall Curve')\n",
    "plt.legend(loc=\"lower left\")\n",
    "plt.grid()\n",
    "plt.show()"
   ]
  },
  {
   "cell_type": "code",
   "execution_count": null,
   "id": "a267f66c-c90b-4d66-92c6-8990df1b7d52",
   "metadata": {},
   "outputs": [],
   "source": []
  }
 ],
 "metadata": {
  "kernelspec": {
   "display_name": "Python 3 (ipykernel)",
   "language": "python",
   "name": "python3"
  },
  "language_info": {
   "codemirror_mode": {
    "name": "ipython",
    "version": 3
   },
   "file_extension": ".py",
   "mimetype": "text/x-python",
   "name": "python",
   "nbconvert_exporter": "python",
   "pygments_lexer": "ipython3",
   "version": "3.11.6"
  }
 },
 "nbformat": 4,
 "nbformat_minor": 5
}
